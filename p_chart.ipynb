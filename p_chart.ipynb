{
 "cells": [
  {
   "cell_type": "code",
   "execution_count": null,
   "metadata": {},
   "outputs": [],
   "source": [
    "\n",
    "# Import required libraries\n",
    "import numpy as np\n",
    "import pandas as pd\n",
    "import matplotlib.pyplot as plt\n",
    "import statistics\n",
    "\n",
    "# Set random seed\n",
    "np.random.seed(42)\n",
    "\n",
    "# Create dummy data\n",
    "p = {'defects':np.random.randint(1,5,10).tolist(),\n",
    "    'group_size':np.random.randint(10,15,10).tolist()}\n",
    "    \n",
    "# Convert data to data frame\n",
    "p = pd.DataFrame(p)\n",
    "\n",
    "# Add 'p' column to data frame\n",
    "p['p'] = p['defects']/p['group_size']\n"
   ]
  },
  {
   "cell_type": "code",
   "execution_count": null,
   "metadata": {},
   "outputs": [],
   "source": [
    "\n",
    "# Plot p-chart\n",
    "plt.figure(figsize=(15,7.5))\n",
    "plt.plot(p['p'], linestyle='-', marker='o', color='black')\n",
    "plt.step(x=range(0,len(p['p'])), y=statistics.mean(p['p'])+3*(np.sqrt((statistics.mean(p['p'])*(1-statistics.mean(p['p'])))/(p['group_size']))), color='red', linestyle='dashed')\n",
    "plt.step(x=range(0,len(p['p'])), y=statistics.mean(p['p'])-3*(np.sqrt((statistics.mean(p['p'])*(1-statistics.mean(p['p'])))/(p['group_size']))), color='red', linestyle='dashed')\n",
    "plt.axhline(statistics.mean(p['p']), color='blue')\n",
    "plt.ylim(bottom=0)\n",
    "plt.title('p Chart')\n",
    "plt.xlabel('Group')\n",
    "plt.ylabel('Fraction Defective')\n"
   ]
  },
  {
   "cell_type": "code",
   "execution_count": null,
   "metadata": {},
   "outputs": [],
   "source": [
    "\n",
    "# Validate points out of control limits\n",
    "i = 0\n",
    "control = True\n",
    "for group in p['p']:\n",
    "    if group > (statistics.mean(p['p'])+3*(np.sqrt((statistics.mean(p['p'])*(1-statistics.mean(p['p'])))/statistics.mean(p['group_size'])))) or group < (statistics.mean(p['p'])-3*(np.sqrt((statistics.mean(p['p'])*(1-statistics.mean(p['p'])))/statistics.mean(p['group_size'])))):\n",
    "        print('Group', i, 'out of fraction defective cotrol limits!')\n",
    "        control = False\n",
    "    i += 1\n",
    "if control == True:\n",
    "    print('All points within control limits.')\n"
   ]
  }
 ],
 "metadata": {
  "kernelspec": {
   "display_name": "Python 3.10.8 64-bit (microsoft store)",
   "language": "python",
   "name": "python3"
  },
  "language_info": {
   "name": "python",
   "version": "3.10.8"
  },
  "orig_nbformat": 4,
  "vscode": {
   "interpreter": {
    "hash": "1166165ef9b8622b611ff3673f1e19b2a164431d37be3fd465ffa772cacdb863"
   }
  }
 },
 "nbformat": 4,
 "nbformat_minor": 2
}
